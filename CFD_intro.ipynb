{
 "cells": [
  {
   "cell_type": "markdown",
   "metadata": {},
   "source": [
    "<hr>\n",
    "\n",
    "# Flow with pressure gradient and viscosity\n",
    "\n",
    "With pressure gradient and viscosity, the governing equation is:\n",
    "\n",
    "$$u(y) = u_0 \\frac{y}{h} + \\frac{1}{2\\mu}\\left(\\frac{dp}{dx}\\right)(y^2-h\\,y)$$"
   ]
  },
  {
   "cell_type": "code",
   "execution_count": 13,
   "metadata": {},
   "outputs": [
    {
     "data": {
      "application/vnd.jupyter.widget-view+json": {
       "model_id": "b8dc8f6d0ea5498d986369ceb9fd2adb"
      }
     },
     "metadata": {},
     "output_type": "display_data"
    }
   ],
   "source": [
    "%matplotlib notebook\n",
    "%matplotlib inline\n",
    "\n",
    "import matplotlib\n",
    "import numpy as np\n",
    "import matplotlib.pyplot as plt\n",
    "import math\n",
    "\n",
    "from __future__ import print_function\n",
    "from ipywidgets import interact, interactive, fixed\n",
    "import ipywidgets as widgets\n",
    "\n",
    "widgets.__version__\n",
    "@interact(top_plate_speed=(0,10), p0=(-10,10), p1=(-10,10), viscosity=(1,10))\n",
    "def couette_pressure(top_plate_speed, p0, p1, viscosity):\n",
    "    h = 1 # [m]\n",
    "    y = np.linspace(0,h,15+1)\n",
    "    dx = 0.1\n",
    "    u = top_plate_speed * y/h + (1/(2*viscosity))*((p1-p0)/dx)*(y**2-h*y)\n",
    "           \n",
    "    fig = plt.figure(1)\n",
    "    fig.clf()\n",
    "    ax = fig.add_subplot(111)\n",
    "    ax.set_ylabel(\"y\")\n",
    "    ax.set_xlabel(\"u\")\n",
    "    ax.set_title(\"top plate velocity = \" + str(u[-1]))\n",
    "    ax.set_ylim(0,h)\n",
    "    ax.set_xlim(-10,10)\n",
    "    ax.text(15,0.5,'$\\Delta$ p = '+str(p1-p0))\n",
    "\n",
    "    for i in np.arange(y.size):\n",
    "        ax.arrow(0,y[i],u[i],0, color='k', width=0.01, head_width=0.03, head_length=0.1)\n",
    "\n",
    "    plt.show()"
   ]
  },
  {
   "cell_type": "markdown",
   "metadata": {},
   "source": [
    "# Simpler Systems\n",
    "\n",
    "## Couette Flow (non-interactive)\n",
    "\n",
    "Governing equation: $$u(y) = u_0\\frac{y}{h}$$"
   ]
  },
  {
   "cell_type": "code",
   "execution_count": null,
   "metadata": {},
   "outputs": [],
   "source": [
    "h = 1    # [m]\n",
    "u_0 = 1  # [m s-1]\n",
    "y = np.linspace(0,h,10+1)  # discretize y from 0 to h\n",
    "u = u_0 * y/h  # u(y)\n",
    "\n",
    "\n",
    "fig = plt.figure(2)\n",
    "fig.clf()\n",
    "ax = fig.add_subplot(111)\n",
    "\n",
    "for i in np.arange(y.size):\n",
    "    ax.arrow(0,y[i],u[i],0, color='k', width=0.01, head_width=0.05, head_length=0.05)\n",
    "    ax.set_ylim(0,1)"
   ]
  },
  {
   "cell_type": "markdown",
   "metadata": {
    "collapsed": true
   },
   "source": [
    "## Couette Flow (interactive)"
   ]
  },
  {
   "cell_type": "code",
   "execution_count": 12,
   "metadata": {},
   "outputs": [
    {
     "data": {
      "application/vnd.jupyter.widget-view+json": {
       "model_id": "2fadc58d39e944908c79adb72e8645a1"
      }
     },
     "metadata": {},
     "output_type": "display_data"
    }
   ],
   "source": [
    "%matplotlib notebook\n",
    "%matplotlib inline\n",
    "\n",
    "import matplotlib\n",
    "import numpy as np\n",
    "import matplotlib.pyplot as plt\n",
    "import math\n",
    "\n",
    "from __future__ import print_function\n",
    "from ipywidgets import interact, interactive, fixed\n",
    "import ipywidgets as widgets\n",
    "widgets.__version__\n",
    "\n",
    "@interact(u_0=(1,10))\n",
    "def couette(u_0):\n",
    "    h = 1    # [m]\n",
    "    #u_0 = 1  # [m s-1]\n",
    "    y = np.linspace(0,h,15+1)\n",
    "    u = u_0 * y/h\n",
    "           \n",
    "    fig = plt.figure(3)\n",
    "    fig.clf()\n",
    "    ax = fig.add_subplot(111)\n",
    "    ax.set_title(\"top plate velocity =\" + str(u_0))\n",
    "\n",
    "    for i in np.arange(y.size):\n",
    "        ax.arrow(0,y[i],u[i],0, color='k', width=0.01, head_width=0.03, head_length=0.1)\n",
    "        ax.set_ylim(0,h)\n",
    "        ax.set_xlim(0,10)\n",
    "        \n",
    "        plt.show()"
   ]
  }
 ],
 "metadata": {
  "kernelspec": {
   "display_name": "Python 3",
   "language": "python",
   "name": "python3"
  },
  "language_info": {
   "codemirror_mode": {
    "name": "ipython",
    "version": 3
   },
   "file_extension": ".py",
   "mimetype": "text/x-python",
   "name": "python",
   "nbconvert_exporter": "python",
   "pygments_lexer": "ipython3",
   "version": "3.6.1"
  },
  "widgets": {
   "application/vnd.jupyter.widget-state+json": {
    "state": {
     "04aee51cec46499b9bab692c7d3d7b62": {
      "model_module": "jupyter-js-widgets",
      "model_module_version": "~2.1.4",
      "model_name": "LayoutModel",
      "state": {
       "_model_module_version": "~2.1.4",
       "_view_module_version": "~2.1.4"
      }
     },
     "07be91d3e6ad40fc9fd965e427f71fb6": {
      "model_module": "jupyter-js-widgets",
      "model_module_version": "~2.1.4",
      "model_name": "DropdownModel",
      "state": {
       "_model_module_version": "~2.1.4",
       "_options_labels": [
        "0",
        "10"
       ],
       "_view_module_version": "~2.1.4",
       "description": "top_plate_speed",
       "layout": "IPY_MODEL_36b33f365e454cf7bec39b9bf8e39ccd",
       "value": "10"
      }
     },
     "0e054c6261dd40fbb94ca10b6542065a": {
      "model_module": "jupyter-js-widgets",
      "model_module_version": "~2.1.4",
      "model_name": "LayoutModel",
      "state": {
       "_model_module_version": "~2.1.4",
       "_view_module_version": "~2.1.4"
      }
     },
     "0f6c944160434276a213933299578fb4": {
      "model_module": "jupyter-js-widgets",
      "model_module_version": "~2.1.4",
      "model_name": "DropdownModel",
      "state": {
       "_model_module_version": "~2.1.4",
       "_options_labels": [
        "1",
        "10"
       ],
       "_view_module_version": "~2.1.4",
       "description": "u_0",
       "layout": "IPY_MODEL_7b98cc5995f942468bf3a9f03527cc78",
       "value": "1"
      }
     },
     "0fc3a2cece614804984aaa7125e9a9ce": {
      "model_module": "jupyter-js-widgets",
      "model_module_version": "~2.1.4",
      "model_name": "LayoutModel",
      "state": {
       "_model_module_version": "~2.1.4",
       "_view_module_version": "~2.1.4"
      }
     },
     "133bf69491ac443bbeadaea788dae2c5": {
      "model_module": "jupyter-js-widgets",
      "model_module_version": "~2.1.4",
      "model_name": "LayoutModel",
      "state": {
       "_model_module_version": "~2.1.4",
       "_view_module_version": "~2.1.4"
      }
     },
     "1bae5b62ab074340833468885efe4dea": {
      "model_module": "jupyter-js-widgets",
      "model_module_version": "~2.1.4",
      "model_name": "DropdownModel",
      "state": {
       "_model_module_version": "~2.1.4",
       "_options_labels": [
        "1",
        "10"
       ],
       "_view_module_version": "~2.1.4",
       "description": "viscosity",
       "layout": "IPY_MODEL_6fb67a94ee724887be12a830be0f7f73",
       "value": "1"
      }
     },
     "1bc6103440eb4236a97385956ece22e0": {
      "model_module": "jupyter-js-widgets",
      "model_module_version": "~2.1.4",
      "model_name": "VBoxModel",
      "state": {
       "_dom_classes": [
        "widget-interact"
       ],
       "_model_module_version": "~2.1.4",
       "_view_module_version": "~2.1.4",
       "children": [
        "IPY_MODEL_63b0888ceb0f4e1cac1dae882cf87909",
        "IPY_MODEL_d20022b7508e4a0b85cb88adb821f817"
       ],
       "layout": "IPY_MODEL_a9960d6a560148f8bf10910d2f646ec0"
      }
     },
     "2084e63097ae49e2b13ead1ec7165fca": {
      "model_module": "jupyter-js-widgets",
      "model_module_version": "~2.1.4",
      "model_name": "LayoutModel",
      "state": {
       "_model_module_version": "~2.1.4",
       "_view_module_version": "~2.1.4"
      }
     },
     "2134636662974d12987f48d07dd59044": {
      "model_module": "jupyter-js-widgets",
      "model_module_version": "~2.1.4",
      "model_name": "VBoxModel",
      "state": {
       "_dom_classes": [
        "widget-interact"
       ],
       "_model_module_version": "~2.1.4",
       "_view_module_version": "~2.1.4",
       "children": [
        "IPY_MODEL_0f6c944160434276a213933299578fb4",
        "IPY_MODEL_6f472f966ff748a492a43cff03870ab5"
       ],
       "layout": "IPY_MODEL_5632e6fd2eee41dc8f4489bdd15525bb"
      }
     },
     "29721cb913284acb94f57554691e4790": {
      "model_module": "jupyter-js-widgets",
      "model_module_version": "~2.1.4",
      "model_name": "LayoutModel",
      "state": {
       "_model_module_version": "~2.1.4",
       "_view_module_version": "~2.1.4"
      }
     },
     "2c3625d1f4e64479b58b435b0295157c": {
      "model_module": "jupyter-js-widgets",
      "model_module_version": "~2.1.4",
      "model_name": "IntSliderModel",
      "state": {
       "_model_module_version": "~2.1.4",
       "_view_module_version": "~2.1.4",
       "description": "u_0",
       "layout": "IPY_MODEL_ce616eab428546668b85250bf5d1ebab",
       "max": 10,
       "min": 1,
       "style": "IPY_MODEL_b76ec8fc64094c4c8a853e43045a670a",
       "value": 5
      }
     },
     "2d3af5a5cd5d47b6a132729588073210": {
      "model_module": "jupyter-js-widgets",
      "model_module_version": "~2.1.4",
      "model_name": "OutputModel",
      "state": {
       "_dom_classes": [],
       "_model_module": "jupyter-js-widgets",
       "_model_module_version": "~2.1.4",
       "_view_module": "jupyter-js-widgets",
       "_view_module_version": "~2.1.4",
       "layout": "IPY_MODEL_d504db2b436641a69a66153318361d2b",
       "msg_throttle": 1
      }
     },
     "342e0665e3114752a99e3c3f10507342": {
      "model_module": "jupyter-js-widgets",
      "model_module_version": "~2.1.4",
      "model_name": "OutputModel",
      "state": {
       "_dom_classes": [],
       "_model_module": "jupyter-js-widgets",
       "_model_module_version": "~2.1.4",
       "_view_module": "jupyter-js-widgets",
       "_view_module_version": "~2.1.4",
       "layout": "IPY_MODEL_46a1ab88f084487a835b4ff8da5cf2cc",
       "msg_throttle": 1
      }
     },
     "36b33f365e454cf7bec39b9bf8e39ccd": {
      "model_module": "jupyter-js-widgets",
      "model_module_version": "~2.1.4",
      "model_name": "LayoutModel",
      "state": {
       "_model_module_version": "~2.1.4",
       "_view_module_version": "~2.1.4"
      }
     },
     "3c16e05fdbd942cc8e52a9e9ad7ebfbf": {
      "model_module": "jupyter-js-widgets",
      "model_module_version": "~2.1.4",
      "model_name": "DropdownModel",
      "state": {
       "_model_module_version": "~2.1.4",
       "_options_labels": [
        "-10",
        "10"
       ],
       "_view_module_version": "~2.1.4",
       "description": "p0",
       "layout": "IPY_MODEL_bc743e2563be484aaf01be5dd5c457ab",
       "value": "10"
      }
     },
     "40b8d02ed1474643bbce5bfdc3088e3a": {
      "model_module": "jupyter-js-widgets",
      "model_module_version": "~2.1.4",
      "model_name": "SliderStyleModel",
      "state": {
       "_model_module_version": "~2.1.4",
       "_view_module_version": "~2.1.4"
      }
     },
     "41e2e44527f940179c42624f92fd6ca7": {
      "model_module": "jupyter-js-widgets",
      "model_module_version": "~2.1.4",
      "model_name": "DropdownModel",
      "state": {
       "_model_module_version": "~2.1.4",
       "_options_labels": [
        "1",
        "10"
       ],
       "_view_module_version": "~2.1.4",
       "description": "u_0",
       "layout": "IPY_MODEL_458d916bd44b43c984ae7380a2ac3f2e",
       "value": "1"
      }
     },
     "4223aaf90c5a44bba21f385c8a5f9b50": {
      "model_module": "jupyter-js-widgets",
      "model_module_version": "~2.1.4",
      "model_name": "LayoutModel",
      "state": {
       "_model_module_version": "~2.1.4",
       "_view_module_version": "~2.1.4"
      }
     },
     "436b11ab3855456bab3a68d5ef7fc367": {
      "model_module": "jupyter-js-widgets",
      "model_module_version": "~2.1.4",
      "model_name": "LayoutModel",
      "state": {
       "_model_module_version": "~2.1.4",
       "_view_module_version": "~2.1.4"
      }
     },
     "458d916bd44b43c984ae7380a2ac3f2e": {
      "model_module": "jupyter-js-widgets",
      "model_module_version": "~2.1.4",
      "model_name": "LayoutModel",
      "state": {
       "_model_module_version": "~2.1.4",
       "_view_module_version": "~2.1.4"
      }
     },
     "45a7334f268648f8b770c311f91c52a4": {
      "model_module": "jupyter-js-widgets",
      "model_module_version": "~2.1.4",
      "model_name": "LayoutModel",
      "state": {
       "_model_module_version": "~2.1.4",
       "_view_module_version": "~2.1.4"
      }
     },
     "46a1ab88f084487a835b4ff8da5cf2cc": {
      "model_module": "jupyter-js-widgets",
      "model_module_version": "~2.1.4",
      "model_name": "LayoutModel",
      "state": {
       "_model_module_version": "~2.1.4",
       "_view_module_version": "~2.1.4"
      }
     },
     "4e1ebdbb4f3b478a8816c7e33f0eec25": {
      "model_module": "jupyter-js-widgets",
      "model_module_version": "~2.1.4",
      "model_name": "DropdownModel",
      "state": {
       "_model_module_version": "~2.1.4",
       "_options_labels": [
        "-10",
        "10"
       ],
       "_view_module_version": "~2.1.4",
       "description": "p1",
       "layout": "IPY_MODEL_57d891a74ab5491c998d6c1ca764059f",
       "value": "-10"
      }
     },
     "5632e6fd2eee41dc8f4489bdd15525bb": {
      "model_module": "jupyter-js-widgets",
      "model_module_version": "~2.1.4",
      "model_name": "LayoutModel",
      "state": {
       "_model_module_version": "~2.1.4",
       "_view_module_version": "~2.1.4"
      }
     },
     "57d891a74ab5491c998d6c1ca764059f": {
      "model_module": "jupyter-js-widgets",
      "model_module_version": "~2.1.4",
      "model_name": "LayoutModel",
      "state": {
       "_model_module_version": "~2.1.4",
       "_view_module_version": "~2.1.4"
      }
     },
     "58f7da6835534b6081355ea1eb7c9cad": {
      "model_module": "jupyter-js-widgets",
      "model_module_version": "~2.1.4",
      "model_name": "LayoutModel",
      "state": {
       "_model_module_version": "~2.1.4",
       "_view_module_version": "~2.1.4"
      }
     },
     "628c3fd7e2224a528fb0abe6a4219b4f": {
      "model_module": "jupyter-js-widgets",
      "model_module_version": "~2.1.4",
      "model_name": "IntSliderModel",
      "state": {
       "_model_module_version": "~2.1.4",
       "_view_module_version": "~2.1.4",
       "description": "u_0",
       "layout": "IPY_MODEL_ca01a54480d7424c83462e5ccfbf0afe",
       "max": 10,
       "min": 1,
       "style": "IPY_MODEL_bda37e4971624f0594d6a62f9ad9f5b1",
       "value": 8
      }
     },
     "63b0888ceb0f4e1cac1dae882cf87909": {
      "model_module": "jupyter-js-widgets",
      "model_module_version": "~2.1.4",
      "model_name": "IntSliderModel",
      "state": {
       "_model_module_version": "~2.1.4",
       "_view_module_version": "~2.1.4",
       "description": "u_0",
       "layout": "IPY_MODEL_436b11ab3855456bab3a68d5ef7fc367",
       "max": 10,
       "min": 1,
       "style": "IPY_MODEL_734d1314f50e4df8bc13bf2118fa99a9",
       "value": 8
      }
     },
     "6809245ced07497d867f87fa12555b12": {
      "model_module": "jupyter-js-widgets",
      "model_module_version": "~2.1.4",
      "model_name": "LayoutModel",
      "state": {
       "_model_module_version": "~2.1.4",
       "_view_module_version": "~2.1.4"
      }
     },
     "6f472f966ff748a492a43cff03870ab5": {
      "model_module": "jupyter-js-widgets",
      "model_module_version": "~2.1.4",
      "model_name": "OutputModel",
      "state": {
       "_dom_classes": [],
       "_model_module": "jupyter-js-widgets",
       "_model_module_version": "~2.1.4",
       "_view_module": "jupyter-js-widgets",
       "_view_module_version": "~2.1.4",
       "layout": "IPY_MODEL_d383df3f5c724ceeb5387a2aae08c413",
       "msg_throttle": 1
      }
     },
     "6fb67a94ee724887be12a830be0f7f73": {
      "model_module": "jupyter-js-widgets",
      "model_module_version": "~2.1.4",
      "model_name": "LayoutModel",
      "state": {
       "_model_module_version": "~2.1.4",
       "_view_module_version": "~2.1.4"
      }
     },
     "734d1314f50e4df8bc13bf2118fa99a9": {
      "model_module": "jupyter-js-widgets",
      "model_module_version": "~2.1.4",
      "model_name": "SliderStyleModel",
      "state": {
       "_model_module_version": "~2.1.4",
       "_view_module_version": "~2.1.4"
      }
     },
     "74c80ea2df5d48248d181a370eb069e0": {
      "model_module": "jupyter-js-widgets",
      "model_module_version": "~2.1.4",
      "model_name": "IntSliderModel",
      "state": {
       "_model_module_version": "~2.1.4",
       "_view_module_version": "~2.1.4",
       "description": "u_0",
       "layout": "IPY_MODEL_0fc3a2cece614804984aaa7125e9a9ce",
       "max": 10,
       "min": 1,
       "style": "IPY_MODEL_ac2712d23a80427ba4528d27f271d5e3",
       "value": 2
      }
     },
     "756d190ad34840a1aa8c08da781f99f0": {
      "model_module": "jupyter-js-widgets",
      "model_module_version": "~2.1.4",
      "model_name": "OutputModel",
      "state": {
       "_dom_classes": [],
       "_model_module": "jupyter-js-widgets",
       "_model_module_version": "~2.1.4",
       "_view_module": "jupyter-js-widgets",
       "_view_module_version": "~2.1.4",
       "layout": "IPY_MODEL_4223aaf90c5a44bba21f385c8a5f9b50",
       "msg_throttle": 1
      }
     },
     "780eeaa9e50849f1a9c8e90b0178095f": {
      "model_module": "jupyter-js-widgets",
      "model_module_version": "~2.1.4",
      "model_name": "OutputModel",
      "state": {
       "_dom_classes": [],
       "_model_module": "jupyter-js-widgets",
       "_model_module_version": "~2.1.4",
       "_view_module": "jupyter-js-widgets",
       "_view_module_version": "~2.1.4",
       "layout": "IPY_MODEL_ae80e14e8e24432d9ea5eec8e0aed520",
       "msg_throttle": 1
      }
     },
     "7b98cc5995f942468bf3a9f03527cc78": {
      "model_module": "jupyter-js-widgets",
      "model_module_version": "~2.1.4",
      "model_name": "LayoutModel",
      "state": {
       "_model_module_version": "~2.1.4",
       "_view_module_version": "~2.1.4"
      }
     },
     "81d270c7a65b48e9acdf15c013caeb12": {
      "model_module": "jupyter-js-widgets",
      "model_module_version": "~2.1.4",
      "model_name": "VBoxModel",
      "state": {
       "_dom_classes": [
        "widget-interact"
       ],
       "_model_module_version": "~2.1.4",
       "_view_module_version": "~2.1.4",
       "children": [
        "IPY_MODEL_41e2e44527f940179c42624f92fd6ca7",
        "IPY_MODEL_780eeaa9e50849f1a9c8e90b0178095f"
       ],
       "layout": "IPY_MODEL_29721cb913284acb94f57554691e4790"
      }
     },
     "8879b270078b417289eb29d2d061380c": {
      "model_module": "jupyter-js-widgets",
      "model_module_version": "~2.1.4",
      "model_name": "VBoxModel",
      "state": {
       "_dom_classes": [
        "widget-interact"
       ],
       "_model_module_version": "~2.1.4",
       "_view_module_version": "~2.1.4",
       "children": [
        "IPY_MODEL_e2c00436b34f4f26b036bb0ea7a6f765",
        "IPY_MODEL_bb1866e636474a62b34fc601f94e63c9"
       ],
       "layout": "IPY_MODEL_fb013146588f49ad99a5ef9095054421"
      }
     },
     "9a9eafd94b184042988238c94e7f74d4": {
      "model_module": "jupyter-js-widgets",
      "model_module_version": "~2.1.4",
      "model_name": "LayoutModel",
      "state": {
       "_model_module_version": "~2.1.4",
       "_view_module_version": "~2.1.4"
      }
     },
     "a720859e5037475ab05af02f15153028": {
      "model_module": "jupyter-js-widgets",
      "model_module_version": "~2.1.4",
      "model_name": "LayoutModel",
      "state": {
       "_model_module_version": "~2.1.4",
       "_view_module_version": "~2.1.4"
      }
     },
     "a9960d6a560148f8bf10910d2f646ec0": {
      "model_module": "jupyter-js-widgets",
      "model_module_version": "~2.1.4",
      "model_name": "LayoutModel",
      "state": {
       "_model_module_version": "~2.1.4",
       "_view_module_version": "~2.1.4"
      }
     },
     "ac2712d23a80427ba4528d27f271d5e3": {
      "model_module": "jupyter-js-widgets",
      "model_module_version": "~2.1.4",
      "model_name": "SliderStyleModel",
      "state": {
       "_model_module_version": "~2.1.4",
       "_view_module_version": "~2.1.4"
      }
     },
     "ae80e14e8e24432d9ea5eec8e0aed520": {
      "model_module": "jupyter-js-widgets",
      "model_module_version": "~2.1.4",
      "model_name": "LayoutModel",
      "state": {
       "_model_module_version": "~2.1.4",
       "_view_module_version": "~2.1.4"
      }
     },
     "b09931f4a88044e9a01ea9effe96f531": {
      "model_module": "jupyter-js-widgets",
      "model_module_version": "~2.1.4",
      "model_name": "LayoutModel",
      "state": {
       "_model_module_version": "~2.1.4",
       "_view_module_version": "~2.1.4"
      }
     },
     "b590e47d4f254bdfa025d7b3749e68ce": {
      "model_module": "jupyter-js-widgets",
      "model_module_version": "~2.1.4",
      "model_name": "OutputModel",
      "state": {
       "_dom_classes": [],
       "_model_module": "jupyter-js-widgets",
       "_model_module_version": "~2.1.4",
       "_view_module": "jupyter-js-widgets",
       "_view_module_version": "~2.1.4",
       "layout": "IPY_MODEL_a720859e5037475ab05af02f15153028",
       "msg_throttle": 1
      }
     },
     "b76ec8fc64094c4c8a853e43045a670a": {
      "model_module": "jupyter-js-widgets",
      "model_module_version": "~2.1.4",
      "model_name": "SliderStyleModel",
      "state": {
       "_model_module_version": "~2.1.4",
       "_view_module_version": "~2.1.4"
      }
     },
     "bb1866e636474a62b34fc601f94e63c9": {
      "model_module": "jupyter-js-widgets",
      "model_module_version": "~2.1.4",
      "model_name": "OutputModel",
      "state": {
       "_dom_classes": [],
       "_model_module": "jupyter-js-widgets",
       "_model_module_version": "~2.1.4",
       "_view_module": "jupyter-js-widgets",
       "_view_module_version": "~2.1.4",
       "layout": "IPY_MODEL_45a7334f268648f8b770c311f91c52a4",
       "msg_throttle": 1
      }
     },
     "bc743e2563be484aaf01be5dd5c457ab": {
      "model_module": "jupyter-js-widgets",
      "model_module_version": "~2.1.4",
      "model_name": "LayoutModel",
      "state": {
       "_model_module_version": "~2.1.4",
       "_view_module_version": "~2.1.4"
      }
     },
     "bda37e4971624f0594d6a62f9ad9f5b1": {
      "model_module": "jupyter-js-widgets",
      "model_module_version": "~2.1.4",
      "model_name": "SliderStyleModel",
      "state": {
       "_model_module_version": "~2.1.4",
       "_view_module_version": "~2.1.4"
      }
     },
     "be4fb781b9454d57b3bbac2c7ebeb626": {
      "model_module": "jupyter-js-widgets",
      "model_module_version": "~2.1.4",
      "model_name": "VBoxModel",
      "state": {
       "_dom_classes": [
        "widget-interact"
       ],
       "_model_module_version": "~2.1.4",
       "_view_module_version": "~2.1.4",
       "children": [
        "IPY_MODEL_07be91d3e6ad40fc9fd965e427f71fb6",
        "IPY_MODEL_3c16e05fdbd942cc8e52a9e9ad7ebfbf",
        "IPY_MODEL_4e1ebdbb4f3b478a8816c7e33f0eec25",
        "IPY_MODEL_1bae5b62ab074340833468885efe4dea",
        "IPY_MODEL_2d3af5a5cd5d47b6a132729588073210"
       ],
       "layout": "IPY_MODEL_cd0c75fb7301441abb59323cce1b2035"
      }
     },
     "ca01a54480d7424c83462e5ccfbf0afe": {
      "model_module": "jupyter-js-widgets",
      "model_module_version": "~2.1.4",
      "model_name": "LayoutModel",
      "state": {
       "_model_module_version": "~2.1.4",
       "_view_module_version": "~2.1.4"
      }
     },
     "cd0c75fb7301441abb59323cce1b2035": {
      "model_module": "jupyter-js-widgets",
      "model_module_version": "~2.1.4",
      "model_name": "LayoutModel",
      "state": {
       "_model_module_version": "~2.1.4",
       "_view_module_version": "~2.1.4"
      }
     },
     "ce616eab428546668b85250bf5d1ebab": {
      "model_module": "jupyter-js-widgets",
      "model_module_version": "~2.1.4",
      "model_name": "LayoutModel",
      "state": {
       "_model_module_version": "~2.1.4",
       "_view_module_version": "~2.1.4"
      }
     },
     "d20022b7508e4a0b85cb88adb821f817": {
      "model_module": "jupyter-js-widgets",
      "model_module_version": "~2.1.4",
      "model_name": "OutputModel",
      "state": {
       "_dom_classes": [],
       "_model_module": "jupyter-js-widgets",
       "_model_module_version": "~2.1.4",
       "_view_module": "jupyter-js-widgets",
       "_view_module_version": "~2.1.4",
       "layout": "IPY_MODEL_6809245ced07497d867f87fa12555b12",
       "msg_throttle": 1
      }
     },
     "d383df3f5c724ceeb5387a2aae08c413": {
      "model_module": "jupyter-js-widgets",
      "model_module_version": "~2.1.4",
      "model_name": "LayoutModel",
      "state": {
       "_model_module_version": "~2.1.4",
       "_view_module_version": "~2.1.4"
      }
     },
     "d3e1c8150b834aa1a51f26dff2cfc4ed": {
      "model_module": "jupyter-js-widgets",
      "model_module_version": "~2.1.4",
      "model_name": "VBoxModel",
      "state": {
       "_dom_classes": [
        "widget-interact"
       ],
       "_model_module_version": "~2.1.4",
       "_view_module_version": "~2.1.4",
       "children": [
        "IPY_MODEL_74c80ea2df5d48248d181a370eb069e0",
        "IPY_MODEL_b590e47d4f254bdfa025d7b3749e68ce"
       ],
       "layout": "IPY_MODEL_b09931f4a88044e9a01ea9effe96f531"
      }
     },
     "d504db2b436641a69a66153318361d2b": {
      "model_module": "jupyter-js-widgets",
      "model_module_version": "~2.1.4",
      "model_name": "LayoutModel",
      "state": {
       "_model_module_version": "~2.1.4",
       "_view_module_version": "~2.1.4"
      }
     },
     "d5a17d5dbb0146cca69f18fba66e9612": {
      "model_module": "jupyter-js-widgets",
      "model_module_version": "~2.1.4",
      "model_name": "VBoxModel",
      "state": {
       "_dom_classes": [
        "widget-interact"
       ],
       "_model_module_version": "~2.1.4",
       "_view_module_version": "~2.1.4",
       "children": [
        "IPY_MODEL_df5eb105eacd4d70b83d69ff34428864",
        "IPY_MODEL_342e0665e3114752a99e3c3f10507342"
       ],
       "layout": "IPY_MODEL_133bf69491ac443bbeadaea788dae2c5"
      }
     },
     "d5e3c2fb9f214dfba66448fe9f898881": {
      "model_module": "jupyter-js-widgets",
      "model_module_version": "~2.1.4",
      "model_name": "SliderStyleModel",
      "state": {
       "_model_module_version": "~2.1.4",
       "_view_module_version": "~2.1.4"
      }
     },
     "db2b1878e6d24ce49b7537b9fca1dd06": {
      "model_module": "jupyter-js-widgets",
      "model_module_version": "~2.1.4",
      "model_name": "VBoxModel",
      "state": {
       "_dom_classes": [
        "widget-interact"
       ],
       "_model_module_version": "~2.1.4",
       "_view_module_version": "~2.1.4",
       "children": [
        "IPY_MODEL_2c3625d1f4e64479b58b435b0295157c",
        "IPY_MODEL_756d190ad34840a1aa8c08da781f99f0"
       ],
       "layout": "IPY_MODEL_2084e63097ae49e2b13ead1ec7165fca"
      }
     },
     "df5eb105eacd4d70b83d69ff34428864": {
      "model_module": "jupyter-js-widgets",
      "model_module_version": "~2.1.4",
      "model_name": "IntSliderModel",
      "state": {
       "_model_module_version": "~2.1.4",
       "_view_module_version": "~2.1.4",
       "description": "u_0",
       "layout": "IPY_MODEL_0e054c6261dd40fbb94ca10b6542065a",
       "max": 10,
       "min": 1,
       "style": "IPY_MODEL_40b8d02ed1474643bbce5bfdc3088e3a",
       "value": 5
      }
     },
     "df90b1d1ac6143cbb5219d2150d37d1d": {
      "model_module": "jupyter-js-widgets",
      "model_module_version": "~2.1.4",
      "model_name": "OutputModel",
      "state": {
       "_dom_classes": [],
       "_model_module": "jupyter-js-widgets",
       "_model_module_version": "~2.1.4",
       "_view_module": "jupyter-js-widgets",
       "_view_module_version": "~2.1.4",
       "layout": "IPY_MODEL_58f7da6835534b6081355ea1eb7c9cad",
       "msg_throttle": 1
      }
     },
     "e2c00436b34f4f26b036bb0ea7a6f765": {
      "model_module": "jupyter-js-widgets",
      "model_module_version": "~2.1.4",
      "model_name": "IntSliderModel",
      "state": {
       "_model_module_version": "~2.1.4",
       "_view_module_version": "~2.1.4",
       "description": "u_0",
       "layout": "IPY_MODEL_9a9eafd94b184042988238c94e7f74d4",
       "max": 10,
       "min": 1,
       "style": "IPY_MODEL_d5e3c2fb9f214dfba66448fe9f898881",
       "value": 5
      }
     },
     "e7acbd259856403da4ff38b5cd139c1a": {
      "model_module": "jupyter-js-widgets",
      "model_module_version": "~2.1.4",
      "model_name": "VBoxModel",
      "state": {
       "_dom_classes": [
        "widget-interact"
       ],
       "_model_module_version": "~2.1.4",
       "_view_module_version": "~2.1.4",
       "children": [
        "IPY_MODEL_628c3fd7e2224a528fb0abe6a4219b4f",
        "IPY_MODEL_df90b1d1ac6143cbb5219d2150d37d1d"
       ],
       "layout": "IPY_MODEL_04aee51cec46499b9bab692c7d3d7b62"
      }
     },
     "fb013146588f49ad99a5ef9095054421": {
      "model_module": "jupyter-js-widgets",
      "model_module_version": "~2.1.4",
      "model_name": "LayoutModel",
      "state": {
       "_model_module_version": "~2.1.4",
       "_view_module_version": "~2.1.4"
      }
     }
    },
    "version_major": 1,
    "version_minor": 0
   }
  }
 },
 "nbformat": 4,
 "nbformat_minor": 1
}
