{
 "cells": [
  {
   "cell_type": "markdown",
   "metadata": {},
   "source": [
    "<hr>\n",
    "\n",
    "# Flow with pressure gradient and viscosity\n",
    "\n",
    "With pressure gradient and viscosity, the governing equation is:\n",
    "\n",
    "$$u(y) = u_0 \\frac{y}{h} + \\frac{1}{2\\mu}\\left(\\frac{dp}{dx}\\right)(y^2-h\\,y)$$"
   ]
  },
  {
   "cell_type": "code",
   "execution_count": 1,
   "metadata": {},
   "outputs": [
    {
     "data": {
      "application/vnd.jupyter.widget-view+json": {
       "model_id": "8bcea41efbe34c90b9b7edd57028c774",
       "version_major": 2,
       "version_minor": 0
      },
      "text/html": [
       "<p>Failed to display Jupyter Widget of type <code>interactive</code>.</p>\n",
       "<p>\n",
       "  If you're reading this message in Jupyter Notebook or JupyterLab, it may mean\n",
       "  that the widgets JavaScript is still loading. If this message persists, it\n",
       "  likely means that the widgets JavaScript library is either not installed or\n",
       "  not enabled. See the <a href=\"https://ipywidgets.readthedocs.io/en/stable/user_install.html\">Jupyter\n",
       "  Widgets Documentation</a> for setup instructions.\n",
       "</p>\n",
       "<p>\n",
       "  If you're reading this message in another notebook frontend (for example, a static\n",
       "  rendering on GitHub or <a href=\"https://nbviewer.jupyter.org/\">NBViewer</a>),\n",
       "  it may mean that your frontend doesn't currently support widgets.\n",
       "</p>\n"
      ],
      "text/plain": [
       "interactive(children=(IntSlider(value=5, description='top_plate_speed', max=10), IntSlider(value=0, description='p0', max=10, min=-10), IntSlider(value=0, description='p1', max=10, min=-10), IntSlider(value=5, description='viscosity', max=10, min=1), Output()), _dom_classes=('widget-interact',))"
      ]
     },
     "metadata": {},
     "output_type": "display_data"
    }
   ],
   "source": [
    "%matplotlib notebook\n",
    "%matplotlib inline\n",
    "\n",
    "import matplotlib\n",
    "import numpy as np\n",
    "import matplotlib.pyplot as plt\n",
    "import math\n",
    "\n",
    "from __future__ import print_function\n",
    "from ipywidgets import interact, interactive, fixed\n",
    "import ipywidgets as widgets\n",
    "\n",
    "widgets.__version__\n",
    "@interact(top_plate_speed=(0,10), p0=(-10,10), p1=(-10,10), viscosity=(1,10))\n",
    "def couette_pressure(top_plate_speed, p0, p1, viscosity):\n",
    "    h = 1 # [m]\n",
    "    y = np.linspace(0,h,15+1)\n",
    "    dx = 0.1\n",
    "    u = top_plate_speed * y/h + (1/(2*viscosity))*((p1-p0)/dx)*(y**2-h*y)\n",
    "           \n",
    "    fig = plt.figure(1)\n",
    "    fig.clf()\n",
    "    ax = fig.add_subplot(111)\n",
    "    ax.set_ylabel(\"y\")\n",
    "    ax.set_xlabel(\"u\")\n",
    "    ax.set_title(\"top plate velocity = \" + str(u[-1]))\n",
    "    ax.set_ylim(0,h)\n",
    "    ax.set_xlim(-10,10)\n",
    "    ax.text(15,0.5,'$\\Delta$ p = '+str(p1-p0))\n",
    "\n",
    "    for i in np.arange(y.size):\n",
    "        ax.arrow(0,y[i],u[i],0, color='k', width=0.01, head_width=0.03, head_length=0.1)\n",
    "\n",
    "    plt.show()"
   ]
  },
  {
   "cell_type": "markdown",
   "metadata": {},
   "source": [
    "# Simpler Systems\n",
    "\n",
    "## Couette Flow (non-interactive)\n",
    "\n",
    "Governing equation: $$u(y) = u_0\\frac{y}{h}$$"
   ]
  },
  {
   "cell_type": "code",
   "execution_count": 2,
   "metadata": {},
   "outputs": [
    {
     "data": {
      "image/png": "[encoded data removed]",
      "text/plain": [
       "<matplotlib.figure.Figure at 0x125d2b1d0>"
      ]
     },
     "metadata": {},
     "output_type": "display_data"
    }
   ],
   "source": [
    "h = 1    # [m]\n",
    "u_0 = 1  # [m s-1]\n",
    "y = np.linspace(0,h,10+1)  # discretize y from 0 to h\n",
    "u = u_0 * y/h  # u(y)\n",
    "\n",
    "\n",
    "fig = plt.figure(2)\n",
    "fig.clf()\n",
    "ax = fig.add_subplot(111)\n",
    "\n",
    "for i in np.arange(y.size):\n",
    "    ax.arrow(0,y[i],u[i],0, color='k', width=0.01, head_width=0.05, head_length=0.05)\n",
    "    ax.set_ylim(0,1)"
   ]
  },
  {
   "cell_type": "markdown",
   "metadata": {
    "collapsed": true
   },
   "source": [
    "## Couette Flow (interactive)"
   ]
  },
  {
   "cell_type": "code",
   "execution_count": 2,
   "metadata": {},
   "outputs": [
    {
     "data": {
      "application/vnd.jupyter.widget-view+json": {
       "model_id": "a70cb1fe886f4d33b2949f81393274bc",
       "version_major": 2,
       "version_minor": 0
      },
      "text/html": [
       "<p>Failed to display Jupyter Widget of type <code>interactive</code>.</p>\n",
       "<p>\n",
       "  If you're reading this message in Jupyter Notebook or JupyterLab, it may mean\n",
       "  that the widgets JavaScript is still loading. If this message persists, it\n",
       "  likely means that the widgets JavaScript library is either not installed or\n",
       "  not enabled. See the <a href=\"https://ipywidgets.readthedocs.io/en/stable/user_install.html\">Jupyter\n",
       "  Widgets Documentation</a> for setup instructions.\n",
       "</p>\n",
       "<p>\n",
       "  If you're reading this message in another notebook frontend (for example, a static\n",
       "  rendering on GitHub or <a href=\"https://nbviewer.jupyter.org/\">NBViewer</a>),\n",
       "  it may mean that your frontend doesn't currently support widgets.\n",
       "</p>\n"
      ],
      "text/plain": [
       "interactive(children=(IntSlider(value=5, description='u_0', max=10, min=1), Output()), _dom_classes=('widget-interact',))"
      ]
     },
     "metadata": {},
     "output_type": "display_data"
    }
   ],
   "source": [
    "%matplotlib notebook\n",
    "%matplotlib inline\n",
    "\n",
    "import matplotlib\n",
    "import numpy as np\n",
    "import matplotlib.pyplot as plt\n",
    "import math\n",
    "\n",
    "from __future__ import print_function\n",
    "from ipywidgets import interact, interactive, fixed\n",
    "import ipywidgets as widgets\n",
    "widgets.__version__\n",
    "\n",
    "@interact(u_0=(1,10))\n",
    "def couette(u_0):\n",
    "    h = 1    # [m]\n",
    "    #u_0 = 1  # [m s-1]\n",
    "    y = np.linspace(0,h,15+1)\n",
    "    u = u_0 * y/h\n",
    "           \n",
    "    fig = plt.figure(3)\n",
    "    fig.clf()\n",
    "    ax = fig.add_subplot(111)\n",
    "    ax.set_title(\"top plate velocity =\" + str(u_0))\n",
    "\n",
    "    for i in np.arange(y.size):\n",
    "        ax.arrow(0,y[i],u[i],0, color='k', width=0.01, head_width=0.03, head_length=0.1)\n",
    "        ax.set_ylim(0,h)\n",
    "        ax.set_xlim(0,10)\n",
    "        \n",
    "    plt.show()"
   ]
  },
  {
   "cell_type": "code",
   "execution_count": null,
   "metadata": {},
   "outputs": [],
   "source": []
  }
 ],
 "metadata": {
  "kernelspec": {
   "display_name": "Python 3",
   "language": "python",
   "name": "python3"
  },
  "language_info": {
   "codemirror_mode": {
    "name": "ipython",
    "version": 3
   },
   "file_extension": ".py",
   "mimetype": "text/x-python",
   "name": "python",
   "nbconvert_exporter": "python",
   "pygments_lexer": "ipython3",
   "version": "3.5.4"
  },
  "widgets": {
   "application/vnd.jupyter.widget-state+json": {
    "state": {
     "13c8fd44ab7144e1b6f5240a3515e5f1": {
      "model_module": "@jupyter-widgets/base",
      "model_module_version": "1.0.0",
      "model_name": "LayoutModel",
      "state": {}
     },
     "1912905da9f5490eb9ca54eb7a460798": {
      "model_module": "@jupyter-widgets/controls",
      "model_module_version": "1.0.0",
      "model_name": "SliderStyleModel",
      "state": {
       "description_width": ""
      }
     },
     "1e20ce7ce71e4fb3b908e38f256cc2a4": {
      "model_module": "@jupyter-widgets/base",
      "model_module_version": "1.0.0",
      "model_name": "LayoutModel",
      "state": {}
     },
     "295dfafcdd8348b7a22511465e4f57db": {
      "model_module": "@jupyter-widgets/base",
      "model_module_version": "1.0.0",
      "model_name": "LayoutModel",
      "state": {}
     },
     "2cb402a8fc6543d29f19771ff6de32cb": {
      "model_module": "@jupyter-widgets/base",
      "model_module_version": "1.0.0",
      "model_name": "LayoutModel",
      "state": {}
     },
     "326229b8b4a74d60b62813c2f5845402": {
      "model_module": "@jupyter-widgets/controls",
      "model_module_version": "1.0.0",
      "model_name": "SliderStyleModel",
      "state": {
       "description_width": ""
      }
     },
     "3f2b5467911c4c7ea7305d6b39789aed": {
      "model_module": "@jupyter-widgets/base",
      "model_module_version": "1.0.0",
      "model_name": "LayoutModel",
      "state": {}
     },
     "47925cd913df43af8479e518251f0d07": {
      "model_module": "@jupyter-widgets/controls",
      "model_module_version": "1.0.0",
      "model_name": "SliderStyleModel",
      "state": {
       "description_width": ""
      }
     },
     "49114926eea54e3d8b6e2247b88bacb7": {
      "model_module": "@jupyter-widgets/controls",
      "model_module_version": "1.0.0",
      "model_name": "IntSliderModel",
      "state": {
       "description": "top_plate_speed",
       "layout": "IPY_MODEL_295dfafcdd8348b7a22511465e4f57db",
       "max": 10,
       "style": "IPY_MODEL_72e3f17d184c4ebcbcba26f2bfbc360c",
       "value": 5
      }
     },
     "67ed4909c4e9478498f6362c359013c2": {
      "model_module": "@jupyter-widgets/output",
      "model_module_version": "1.0.0",
      "model_name": "OutputModel",
      "state": {
       "layout": "IPY_MODEL_81d7591d7c184c1b957e39e9028aabb2",
       "outputs": [
        {
         "data": {
          "image/png": "iVBORw0KGgoAAAANSUhEUgAAAXoAAAEICAYAAABRSj9aAAAABHNCSVQICAgIfAhkiAAAAAlwSFlz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\n",
          "text/plain": "<matplotlib.figure.Figure at 0x114af1eb8>"
         },
         "metadata": {},
         "output_type": "display_data"
        }
       ]
      }
     },
     "72e3f17d184c4ebcbcba26f2bfbc360c": {
      "model_module": "@jupyter-widgets/controls",
      "model_module_version": "1.0.0",
      "model_name": "SliderStyleModel",
      "state": {
       "description_width": ""
      }
     },
     "7a9d847aa4894ce79fe7ede452b1bcd3": {
      "model_module": "@jupyter-widgets/controls",
      "model_module_version": "1.0.0",
      "model_name": "IntSliderModel",
      "state": {
       "description": "p0",
       "layout": "IPY_MODEL_13c8fd44ab7144e1b6f5240a3515e5f1",
       "max": 10,
       "min": -10,
       "style": "IPY_MODEL_326229b8b4a74d60b62813c2f5845402"
      }
     },
     "81d7591d7c184c1b957e39e9028aabb2": {
      "model_module": "@jupyter-widgets/base",
      "model_module_version": "1.0.0",
      "model_name": "LayoutModel",
      "state": {}
     },
     "8b1eb1a8f30f4d90858d1f02770a13a8": {
      "model_module": "@jupyter-widgets/controls",
      "model_module_version": "1.0.0",
      "model_name": "IntSliderModel",
      "state": {
       "description": "u_0",
       "layout": "IPY_MODEL_3f2b5467911c4c7ea7305d6b39789aed",
       "max": 10,
       "min": 1,
       "style": "IPY_MODEL_47925cd913df43af8479e518251f0d07",
       "value": 5
      }
     },
     "8bcea41efbe34c90b9b7edd57028c774": {
      "model_module": "@jupyter-widgets/controls",
      "model_module_version": "1.0.0",
      "model_name": "VBoxModel",
      "state": {
       "_dom_classes": [
        "widget-interact"
       ],
       "children": [
        "IPY_MODEL_49114926eea54e3d8b6e2247b88bacb7",
        "IPY_MODEL_7a9d847aa4894ce79fe7ede452b1bcd3",
        "IPY_MODEL_c0efd8f955c84b4f9eee8209c67b3716",
        "IPY_MODEL_e9adda19959d477c8d5fedc7a24e402b",
        "IPY_MODEL_a8efdf0a20944d61a9e59a51d0b0981c"
       ],
       "layout": "IPY_MODEL_eaa2dc6c7ac64e129c9c0dc8d41a5b73"
      }
     },
     "a70cb1fe886f4d33b2949f81393274bc": {
      "model_module": "@jupyter-widgets/controls",
      "model_module_version": "1.0.0",
      "model_name": "VBoxModel",
      "state": {
       "_dom_classes": [
        "widget-interact"
       ],
       "children": [
        "IPY_MODEL_8b1eb1a8f30f4d90858d1f02770a13a8",
        "IPY_MODEL_67ed4909c4e9478498f6362c359013c2"
       ],
       "layout": "IPY_MODEL_abcf043f918b4910a73b6df55c939989"
      }
     },
     "a8efdf0a20944d61a9e59a51d0b0981c": {
      "model_module": "@jupyter-widgets/output",
      "model_module_version": "1.0.0",
      "model_name": "OutputModel",
      "state": {
       "layout": "IPY_MODEL_2cb402a8fc6543d29f19771ff6de32cb",
       "outputs": [
        {
         "data": {
          "image/png": "iVBORw0KGgoAAAANSUhEUgAAAgIAAAEWCAYAAAAU6v/cAAAABHNCSVQICAgIfAhkiAAAAAlwSFlz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\n",
          "text/plain": "<matplotlib.figure.Figure at 0x114b12b70>"
         },
         "metadata": {},
         "output_type": "display_data"
        }
       ]
      }
     },
     "abcf043f918b4910a73b6df55c939989": {
      "model_module": "@jupyter-widgets/base",
      "model_module_version": "1.0.0",
      "model_name": "LayoutModel",
      "state": {}
     },
     "c0efd8f955c84b4f9eee8209c67b3716": {
      "model_module": "@jupyter-widgets/controls",
      "model_module_version": "1.0.0",
      "model_name": "IntSliderModel",
      "state": {
       "description": "p1",
       "layout": "IPY_MODEL_1e20ce7ce71e4fb3b908e38f256cc2a4",
       "max": 10,
       "min": -10,
       "style": "IPY_MODEL_1912905da9f5490eb9ca54eb7a460798",
       "value": 10
      }
     },
     "e86717367d904c829214b2e7cfbabf0c": {
      "model_module": "@jupyter-widgets/controls",
      "model_module_version": "1.0.0",
      "model_name": "SliderStyleModel",
      "state": {
       "description_width": ""
      }
     },
     "e9adda19959d477c8d5fedc7a24e402b": {
      "model_module": "@jupyter-widgets/controls",
      "model_module_version": "1.0.0",
      "model_name": "IntSliderModel",
      "state": {
       "description": "viscosity",
       "layout": "IPY_MODEL_f5cb5c25a23446349612c34a82561494",
       "max": 10,
       "min": 1,
       "style": "IPY_MODEL_e86717367d904c829214b2e7cfbabf0c",
       "value": 5
      }
     },
     "eaa2dc6c7ac64e129c9c0dc8d41a5b73": {
      "model_module": "@jupyter-widgets/base",
      "model_module_version": "1.0.0",
      "model_name": "LayoutModel",
      "state": {}
     },
     "f5cb5c25a23446349612c34a82561494": {
      "model_module": "@jupyter-widgets/base",
      "model_module_version": "1.0.0",
      "model_name": "LayoutModel",
      "state": {}
     }
    },
    "version_major": 2,
    "version_minor": 0
   }
  }
 },
 "nbformat": 4,
 "nbformat_minor": 1
}
